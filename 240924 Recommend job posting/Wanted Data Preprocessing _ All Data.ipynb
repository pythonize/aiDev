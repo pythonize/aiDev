{
 "cells": [
  {
   "cell_type": "markdown",
   "id": "580e6401",
   "metadata": {},
   "source": [
    " "
   ]
  },
  {
   "cell_type": "markdown",
   "id": "642aefdf",
   "metadata": {},
   "source": [
    "주요 어휘 추출 전처리 후 페이지 추천 기능 적용"
   ]
  },
  {
   "cell_type": "markdown",
   "id": "24c3f751",
   "metadata": {},
   "source": [
    "  "
   ]
  },
  {
   "cell_type": "markdown",
   "id": "511644ac",
   "metadata": {},
   "source": [
    "1. 전처리 코드 완성(디버깅 포함, 워드클라우드 생성)"
   ]
  },
  {
   "cell_type": "markdown",
   "id": "6bb62937",
   "metadata": {},
   "source": [
    "※ 라이브러리 및 프레임워크 필요시 설치"
   ]
  },
  {
   "cell_type": "markdown",
   "id": "8567a976",
   "metadata": {},
   "source": [
    "!pip install konlpy"
   ]
  },
  {
   "cell_type": "markdown",
   "id": "f2c3fc79",
   "metadata": {},
   "source": [
    "!pip install JPype1"
   ]
  },
  {
   "cell_type": "markdown",
   "id": "a1e6da02",
   "metadata": {},
   "source": [
    "!pip install wordcloud matplotlib"
   ]
  },
  {
   "cell_type": "markdown",
   "id": "eec644e3",
   "metadata": {},
   "source": [
    "!pip install --upgrade pip"
   ]
  },
  {
   "cell_type": "markdown",
   "id": "51628283",
   "metadata": {},
   "source": [
    "!pip install --upgrade Pillow"
   ]
  },
  {
   "cell_type": "code",
   "execution_count": null,
   "id": "7915cce2",
   "metadata": {},
   "outputs": [],
   "source": [
    "import pandas as pd\n",
    "import requests\n",
    "from sklearn.feature_extraction.text import TfidfVectorizer\n",
    "from konlpy.tag import Okt\n",
    "import re\n",
    "from wordcloud import WordCloud\n",
    "import matplotlib.pyplot as plt"
   ]
  },
  {
   "cell_type": "code",
   "execution_count": null,
   "id": "f571823d",
   "metadata": {},
   "outputs": [],
   "source": [
    "# 데이터 로드\n",
    "df = pd.read_csv(\"data/wanted_crawling_all_data.csv\", index_col=None, \n",
    "                 parse_dates=['Title', 'URL'], encoding='cp949')"
   ]
  },
  {
   "cell_type": "code",
   "execution_count": null,
   "id": "74c7fd47",
   "metadata": {},
   "outputs": [],
   "source": [
    "# 불용어 리스트를 파일에서 읽어오기\n",
    "with open('stopwords-ko.txt', 'r', encoding='utf-8') as file:\n",
    "    stopwords = file.read().splitlines()"
   ]
  },
  {
   "cell_type": "code",
   "execution_count": null,
   "id": "67cf61db",
   "metadata": {},
   "outputs": [],
   "source": [
    "# 형태소 분석기 초기화\n",
    "okt = Okt()"
   ]
  },
  {
   "cell_type": "code",
   "execution_count": null,
   "id": "e987731e",
   "metadata": {},
   "outputs": [],
   "source": [
    "# 전처리 함수 정의 (명사 추출 및 불용어 제거, 영어 포함)\n",
    "def preprocess_text(text, okt):\n",
    "    if isinstance(text, str):\n",
    "        text = text.lower()  # 소문자로 변환 (영어에 유용)\n",
    "        text = re.sub(r'\\d+', '', text)  # 숫자 제거\n",
    "        text = re.sub(r'[^\\w\\s]', '', text)  # 특수 문자 제거\n",
    "        # 명사 추출\n",
    "        nouns = okt.nouns(text)\n",
    "        # 명사와 함께 영어 단어도 추출하기 위해 영어 필터링 추가\n",
    "        english_words = re.findall(r'\\b[a-zA-Z]+\\b', text)  # 영어 단어 추출\n",
    "        # 불용어 제거 및 단어 필터링\n",
    "        filtered_nouns = [noun for noun in nouns if noun not in stopwords and len(noun) > 1]\n",
    "        filtered_english = [word for word in english_words if word not in stopwords]\n",
    "        # 한국어 명사와 영어 단어를 결합하여 반환\n",
    "        return ' '.join(filtered_nouns + filtered_english)\n",
    "    return ''"
   ]
  },
  {
   "cell_type": "code",
   "execution_count": null,
   "id": "34bf55d2",
   "metadata": {},
   "outputs": [],
   "source": [
    "# TF-IDF 기반 중요 단어 추출 함수\n",
    "def get_important_words(column_text, n=50):\n",
    "    vectorizer = TfidfVectorizer(max_features=n, max_df=0.85, min_df=1) \n",
    "    X = vectorizer.fit_transform(column_text)\n",
    "    if X.shape[0] == 0:  # 문서가 없는 경우\n",
    "        return []\n",
    "    feature_names = vectorizer.get_feature_names_out()\n",
    "    tfidf_scores = X.toarray().sum(axis=0)\n",
    "    word_score_pairs = sorted(zip(feature_names, tfidf_scores), key=lambda x: x[1], reverse=True)\n",
    "    return word_score_pairs"
   ]
  },
  {
   "cell_type": "code",
   "execution_count": null,
   "id": "63756b2f",
   "metadata": {},
   "outputs": [],
   "source": [
    "# 각 열에 대해 전처리 및 TF-IDF 기반 중요 단어 추출 (URL 칼럼 제외)\n",
    "important_words_dict = {}"
   ]
  },
  {
   "cell_type": "code",
   "execution_count": null,
   "id": "03b73dee",
   "metadata": {},
   "outputs": [],
   "source": [
    "for column in df.columns:\n",
    "    # 해당 칼럼은 처리하지 않음\n",
    "    if column in ['Title', 'Company', 'Career', 'Deadline', 'Location', 'Duty', 'URL']:\n",
    "        continue\n",
    "    if df[column].dtype == 'object':  # 문자열 데이터에 대해서만 처리\n",
    "        # 전처리 및 명사 추출\n",
    "        df[column] = df[column].apply(preprocess_text)\n",
    "        column_text = df[column].dropna().tolist()  # NaN 값 제거 및 리스트로 변환\n",
    "        \n",
    "        # 텍스트 샘플 출력 (디버깅용)\n",
    "        print(f\"Column: {column}\")\n",
    "        print(\"Sample Texts:\")\n",
    "        print(column_text[:5])  # 상위 5개 텍스트 샘플 출력\n",
    "        \n",
    "        if len(column_text) > 0:  # 데이터가 있는 경우에만 처리\n",
    "            # TF-IDF 기반 중요 단어 추출\n",
    "            important_words = get_important_words(column_text, n=50)\n",
    "            if important_words:  # 중요 단어가 추출된 경우에만 처리\n",
    "                important_words_dict[column] = important_words"
   ]
  },
  {
   "cell_type": "code",
   "execution_count": null,
   "id": "c1bb1627",
   "metadata": {},
   "outputs": [],
   "source": [
    "# 각 칼럼별 중요 단어를 CSV 파일로 저장\n",
    "for column, words in important_words_dict.items():\n",
    "    df_words = pd.DataFrame(words, columns=['Word', 'Score'])\n",
    "    df_words.to_csv(f'{column}_important_words.csv', index=False, encoding='utf-8-sig')"
   ]
  },
  {
   "cell_type": "code",
   "execution_count": null,
   "id": "ad67cc2f",
   "metadata": {},
   "outputs": [],
   "source": [
    "# 전처리된 텍스트 확인 (디버깅용)\n",
    "for column in df.columns:\n",
    "    if column in important_words_dict:\n",
    "        print(f\"Column: {column}\")\n",
    "        print(df[column].head())"
   ]
  },
  {
   "cell_type": "code",
   "execution_count": null,
   "id": "965c943a",
   "metadata": {},
   "outputs": [],
   "source": [
    "# 전처리된 데이터프레임 저장\n",
    "df.to_csv('preprocessed_data_all.csv', index=False, encoding='utf-8-sig')"
   ]
  },
  {
   "cell_type": "code",
   "execution_count": null,
   "id": "22c15748",
   "metadata": {
    "scrolled": true
   },
   "outputs": [],
   "source": [
    "# 워드클라우드 생성 및 저장 함수\n",
    "def create_wordcloud(words, column_name):\n",
    "    word_freq = dict(words)  # 중요 단어와 점수를 딕셔너리 형태로 변환\n",
    "    wordcloud = WordCloud(font_path='C:/Windows/Fonts/malgun.ttf',  # 한글 폰트 경로\n",
    "                          width=800, height=400, \n",
    "                          background_color='white').generate_from_frequencies(word_freq)\n",
    "    \n",
    "    plt.figure(figsize=(10, 5))\n",
    "    plt.imshow(wordcloud, interpolation='bilinear')\n",
    "    plt.axis('off')\n",
    "    plt.title(f'Word Cloud for {column_name}')\n",
    "    plt.savefig(f'{column_name}_wordcloud.png', format='png')\n",
    "    plt.show()\n",
    "\n",
    "# 각 칼럼별 워드클라우드 생성 및 저장\n",
    "for column, words in important_words_dict.items():\n",
    "    create_wordcloud(words, column)"
   ]
  },
  {
   "cell_type": "markdown",
   "id": "cb8f1887",
   "metadata": {},
   "source": [
    " "
   ]
  },
  {
   "cell_type": "markdown",
   "id": "6151e907",
   "metadata": {},
   "source": [
    " "
   ]
  },
  {
   "cell_type": "markdown",
   "id": "6dfba742",
   "metadata": {},
   "source": [
    " "
   ]
  },
  {
   "cell_type": "markdown",
   "id": "23f448ce",
   "metadata": {},
   "source": [
    "2. 데이터 전처리 후 추천기능 적용(통합검색 추천)"
   ]
  },
  {
   "cell_type": "markdown",
   "id": "b5ce160a",
   "metadata": {},
   "source": [
    " "
   ]
  },
  {
   "cell_type": "code",
   "execution_count": null,
   "id": "ed3c3d54",
   "metadata": {},
   "outputs": [],
   "source": [
    "import pandas as pd\n",
    "from sklearn.feature_extraction.text import TfidfVectorizer\n",
    "from sklearn.metrics.pairwise import cosine_similarity\n",
    "import re"
   ]
  },
  {
   "cell_type": "code",
   "execution_count": null,
   "id": "542a7e8e",
   "metadata": {},
   "outputs": [],
   "source": [
    "# 데이터 로드\n",
    "df = pd.read_csv(\"data/wanted_crawling_all_data.csv\", index_col=None, encoding='cp949')"
   ]
  },
  {
   "cell_type": "code",
   "execution_count": null,
   "id": "e146c22e",
   "metadata": {},
   "outputs": [],
   "source": [
    "# 불용어 리스트를 파일에서 읽어오기\n",
    "with open('stopwords-ko.txt', 'r', encoding='utf-8') as file:\n",
    "    stopwords = file.read().splitlines()\n",
    "\n",
    "# 전처리 함수 정의 (명사 추출 및 불용어 제거, 영어 포함)\n",
    "def preprocess_text(text, okt):\n",
    "    if isinstance(text, str):\n",
    "        text = text.lower()  # 소문자로 변환 (영어에 유용)\n",
    "        text = re.sub(r'\\d+', '', text)  # 숫자 제거\n",
    "        text = re.sub(r'[^\\w\\s]', '', text)  # 특수 문자 제거\n",
    "        # 명사 추출\n",
    "        nouns = okt.nouns(text)\n",
    "        # 명사와 함께 영어 단어도 추출하기 위해 영어 필터링 추가\n",
    "        english_words = re.findall(r'\\b[a-zA-Z]+\\b', text)  # 영어 단어 추출\n",
    "        # 불용어 제거 및 단어 필터링\n",
    "        filtered_nouns = [noun for noun in nouns if noun not in stopwords and len(noun) > 1]\n",
    "        filtered_english = [word for word in english_words if word not in stopwords]\n",
    "        # 한국어 명사와 영어 단어를 결합하여 반환\n",
    "        return ' '.join(filtered_nouns + filtered_english)\n",
    "    return ''"
   ]
  },
  {
   "cell_type": "code",
   "execution_count": null,
   "id": "8426fc02",
   "metadata": {},
   "outputs": [],
   "source": [
    "# 형태소 분석기 초기화\n",
    "from konlpy.tag import Okt\n",
    "okt = Okt()"
   ]
  },
  {
   "cell_type": "code",
   "execution_count": null,
   "id": "e87134f0",
   "metadata": {},
   "outputs": [],
   "source": [
    "# 사용자의 조건을 입력받아 유사한 채용 공고 추천하는 함수\n",
    "def recommend_jobs(user_query, df, okt, top_n=5):\n",
    "    # NaN 값을 빈 문자열로 대체\n",
    "    df.fillna('', inplace=True)\n",
    "    # 여러 칼럼을 전처리 (Title, Company, 주요 업무, 기술 스택 등 필요한 칼럼 추가)\n",
    "    df['preprocessed_title'] = df['Title']\n",
    "    df['preprocessed_company'] = df['Company']\n",
    "    df['preprocessed_career'] = df['Career']\n",
    "    df['preprocessed_work'] = df['Work'].apply(lambda x: preprocess_text(x, okt))\n",
    "    df['preprocessed_qualification'] = df['Qualification'].apply(lambda x: preprocess_text(x, okt))\n",
    "    df['preprocessed_addition'] = df['Addition'].apply(lambda x: preprocess_text(x, okt))\n",
    "    df['preprocessed_welfare'] = df['Welfare'].apply(lambda x: preprocess_text(x, okt))\n",
    "    df['preprocessed_skill'] = df['Skill']\n",
    "    df['preprocessed_tag'] = df['Tag']\n",
    "    df['preprocessed_deadline'] = df['Deadline']\n",
    "    df['preprocessed_location'] = df['Location']\n",
    "    df['preprocessed_duty'] = df['Duty']\n",
    "    \n",
    "    # 사용자가 입력한 질의를 전처리\n",
    "    query_preprocessed = preprocess_text(user_query, okt)\n",
    "\n",
    "    # TF-IDF 벡터화\n",
    "    vectorizer = TfidfVectorizer()\n",
    "\n",
    "    # 여러 칼럼을 하나의 텍스트로 결합 (공백을 추가하여 결합)\n",
    "    df['combined_text'] = df['preprocessed_title'] + ' ' + df['preprocessed_company'] + ' ' + df['preprocessed_career'] + ' ' + df['preprocessed_work'] + ' ' + df['preprocessed_qualification'] + ' ' + df['preprocessed_addition'] + ' ' + df['preprocessed_welfare'] + ' ' + df['preprocessed_skill'] + ' ' + df['preprocessed_tag'] + ' ' + df['preprocessed_deadline'] + ' ' + df['preprocessed_location'] + ' ' + df['preprocessed_duty']\n",
    "    combined_matrix = vectorizer.fit_transform(df['combined_text'])\n",
    "    \n",
    "    # 사용자의 질의를 벡터화\n",
    "    query_vector = vectorizer.transform([query_preprocessed])\n",
    "\n",
    "    # 코사인 유사도 계산\n",
    "    similarity_scores = cosine_similarity(query_vector, combined_matrix).flatten()\n",
    "\n",
    "    # 유사도 순으로 상위 N개의 인덱스 추출\n",
    "    top_indices = similarity_scores.argsort()[-top_n:][::-1]\n",
    "\n",
    "    # 상위 N개의 회사, 제목, URL을 추천\n",
    "    recommendations = df[['Title', 'Company', 'URL']].iloc[top_indices]\n",
    "    return recommendations"
   ]
  },
  {
   "cell_type": "code",
   "execution_count": null,
   "id": "4420ec7c",
   "metadata": {},
   "outputs": [],
   "source": [
    "# 사용자가 선택한 조건\n",
    "user_query = \"데이터 분석\"\n",
    "\n",
    "# 채용 공고 추천\n",
    "recommended_jobs = recommend_jobs(user_query, df, okt, top_n=5)"
   ]
  },
  {
   "cell_type": "code",
   "execution_count": null,
   "id": "da00f8ca",
   "metadata": {},
   "outputs": [],
   "source": [
    "# 추천 결과 출력\n",
    "print(recommended_jobs)"
   ]
  },
  {
   "cell_type": "markdown",
   "id": "2509351c",
   "metadata": {},
   "source": [
    " "
   ]
  },
  {
   "cell_type": "markdown",
   "id": "4499cbeb",
   "metadata": {},
   "source": [
    " "
   ]
  },
  {
   "cell_type": "markdown",
   "id": "9ab62b2f",
   "metadata": {},
   "source": [
    " "
   ]
  },
  {
   "cell_type": "markdown",
   "id": "3804eae0",
   "metadata": {},
   "source": [
    "3. 문답 형식에 따른 채용공고 추천 코드(조건에 따른 검색 추천)"
   ]
  },
  {
   "cell_type": "markdown",
   "id": "07fb4e2c",
   "metadata": {},
   "source": [
    " "
   ]
  },
  {
   "cell_type": "code",
   "execution_count": null,
   "id": "da80525a",
   "metadata": {},
   "outputs": [],
   "source": [
    "import pandas as pd\n",
    "from sklearn.feature_extraction.text import TfidfVectorizer\n",
    "from sklearn.metrics.pairwise import cosine_similarity\n",
    "import re"
   ]
  },
  {
   "cell_type": "code",
   "execution_count": null,
   "id": "a624765c",
   "metadata": {},
   "outputs": [],
   "source": [
    "# 데이터 로드\n",
    "df = pd.read_csv(\"data/wanted_crawling_all_data.csv\", index_col=None, encoding='cp949')"
   ]
  },
  {
   "cell_type": "code",
   "execution_count": null,
   "id": "b3ab881b",
   "metadata": {},
   "outputs": [],
   "source": [
    "# 불용어 리스트를 파일에서 읽어오기\n",
    "with open('stopwords-ko.txt', 'r', encoding='utf-8') as file:\n",
    "    stopwords = file.read().splitlines()\n",
    "\n",
    "# 전처리 함수 정의 (명사 추출 및 불용어 제거, 영어 포함)\n",
    "def preprocess_text(text, okt):\n",
    "    if isinstance(text, str):\n",
    "        text = text.lower()  # 소문자로 변환\n",
    "        text = re.sub(r'\\d+', '', text)  # 숫자 제거\n",
    "        text = re.sub(r'[^\\w\\s]', '', text)  # 특수 문자 제거\n",
    "        # 명사 추출\n",
    "        nouns = okt.nouns(text)\n",
    "        # 영어 단어 추출\n",
    "        english_words = re.findall(r'\\b[a-zA-Z]+\\b', text)\n",
    "        # 불용어 제거 및 단어 필터링\n",
    "        filtered_nouns = [noun for noun in nouns if noun not in stopwords and len(noun) > 1]\n",
    "        filtered_english = [word for word in english_words if word not in stopwords]\n",
    "        # 한국어 명사와 영어 단어를 결합하여 반환\n",
    "        return ' '.join(filtered_nouns + filtered_english)\n",
    "    return ''"
   ]
  },
  {
   "cell_type": "code",
   "execution_count": null,
   "id": "a95cdef2",
   "metadata": {},
   "outputs": [],
   "source": [
    "# 형태소 분석기 초기화\n",
    "from konlpy.tag import Okt\n",
    "okt = Okt()"
   ]
  },
  {
   "cell_type": "code",
   "execution_count": null,
   "id": "0f73eee7",
   "metadata": {},
   "outputs": [],
   "source": [
    "# 사용자 검색어 입력\n",
    "def ask_question(question):\n",
    "    response = input(question + \" \")\n",
    "    return response\n",
    "\n",
    "# 조건에 따른 필터링\n",
    "def filter_jobs_by_criteria(df, location=None, duty=None, work=None, qualification=None, addition=None, welfare=None, skill=None, career=None):\n",
    "    filtered_df = df.copy()\n",
    "    \n",
    "    # 조건에 따라 데이터 필터링\n",
    "    if location and not pd.isna(location):\n",
    "        filtered_df = filtered_df[filtered_df['Location'].str.strip().str.contains(location.strip(), case=False, na=False)]\n",
    "    if duty and not pd.isna(duty):\n",
    "        filtered_df = filtered_df[filtered_df['Duty'].str.strip().str.contains(duty.strip(), case=False, na=False)]\n",
    "    if work and not pd.isna(work):\n",
    "        filtered_df = filtered_df[filtered_df['Work'].str.strip().str.contains(work.strip(), case=False, na=False)]\n",
    "    if qualification and not pd.isna(qualification):\n",
    "        filtered_df = filtered_df[filtered_df['Qualification'].str.strip().str.contains(qualification.strip(), case=False, na=False)]\n",
    "    if addition and not pd.isna(addition):\n",
    "        filtered_df = filtered_df[filtered_df['Addition'].str.strip().str.contains(addition.strip(), case=False, na=False)]\n",
    "    if welfare and not pd.isna(welfare):\n",
    "        filtered_df = filtered_df[filtered_df['Welfare'].str.strip().str.contains(welfare.strip(), case=False, na=False)]\n",
    "    if skill and not pd.isna(skill):\n",
    "        filtered_df = filtered_df[filtered_df['Skill'].str.strip().str.contains(skill.strip(), case=False, na=False)]\n",
    "    if career and not pd.isna(career):\n",
    "        filtered_df = filtered_df[filtered_df['Career'].str.strip().str.contains(career.strip(), case=False, na=False)]\n",
    "    \n",
    "    return filtered_df\n",
    "\n",
    "\n",
    "# 유사 채용 공고 추천 함수 (문답에 따른 범위 좁히기)\n",
    "def recommend_interactively(df, okt):\n",
    "    # 사용자의 선택 조건을 순차적으로 입력\n",
    "    location = ask_question(\"선호하는 지역을 말씀해주세요:\")\n",
    "    duty = ask_question(\"선호하는 직무를 말씀해주세요:\")\n",
    "    work = ask_question(\"주요 업무에서 원하는 조건을 말씀해주세요:\")\n",
    "    qualification = ask_question(\"자격 사항에서 원하는 조건을 말씀해주세요:\")\n",
    "    addition = ask_question(\"우대 사항에서 원하는 조건을 말씀해주세요:\")\n",
    "    welfare = ask_question(\"복지 사항에서 원하는 조건을 말씀해주세요:\")\n",
    "    skill = ask_question(\"필요한 스킬을 말씀해주세요:\")\n",
    "    career = ask_question(\"경력에 대한 조건을 말씀해주세요:\")\n",
    "\n",
    "    # 필터링된 데이터프레임\n",
    "    filtered_df = filter_jobs_by_criteria(df, location, duty, work, qualification, addition, welfare, skill, career)\n",
    "    \n",
    "    if filtered_df.empty:\n",
    "        print(\"해당 조건에 맞는 채용 공고가 없습니다.\")\n",
    "        return\n",
    "    \n",
    "    # 전처리 (필요한 칼럼에 대한 전처리 수행)\n",
    "    filtered_df['preprocessed_work'] = filtered_df['Work'].apply(lambda x: preprocess_text(x, okt))\n",
    "    filtered_df['preprocessed_qualification'] = filtered_df['Qualification'].apply(lambda x: preprocess_text(x, okt))\n",
    "    filtered_df['preprocessed_addition'] = filtered_df['Addition'].apply(lambda x: preprocess_text(x, okt))\n",
    "    filtered_df['preprocessed_welfare'] = filtered_df['Welfare'].apply(lambda x: preprocess_text(x, okt))\n",
    "\n",
    "    # 사용자 질의를 입력받고 전처리\n",
    "    user_query = ask_question(\"검색하려는 키워드를 입력해주세요:\")\n",
    "    query_preprocessed = preprocess_text(user_query, okt)\n",
    "\n",
    "    # TF-IDF 벡터화\n",
    "    vectorizer = TfidfVectorizer()\n",
    "\n",
    "    # 여러 칼럼을 결합하여 벡터화\n",
    "    filtered_df['combined_text'] = (\n",
    "    filtered_df['Title'].fillna('') + ' ' +\n",
    "    filtered_df['Company'].fillna('') + ' ' +\n",
    "    filtered_df['preprocessed_work'].fillna('') + ' ' +\n",
    "    filtered_df['preprocessed_qualification'].fillna('') + ' ' +\n",
    "    filtered_df['preprocessed_addition'].fillna('') + ' ' +\n",
    "    filtered_df['preprocessed_welfare'].fillna('') + ' ' +\n",
    "    filtered_df['Skill'].fillna('') + ' ' +\n",
    "    filtered_df['Tag'].fillna('') + ' ' +\n",
    "    filtered_df['Deadline'].fillna('') + ' ' +\n",
    "    filtered_df['Location'].fillna('') + ' ' +\n",
    "    filtered_df['Duty'].fillna('')\n",
    ")\n",
    "\n",
    "    # TfidfVectorizer를 적용\n",
    "    combined_matrix = vectorizer.fit_transform(filtered_df['combined_text'])\n",
    "\n",
    "    # 사용자 질의를 벡터화\n",
    "    query_vector = vectorizer.transform([query_preprocessed])\n",
    "\n",
    "    # 코사인 유사도 계산\n",
    "    similarity_scores = cosine_similarity(query_vector, combined_matrix).flatten()\n",
    "\n",
    "    # 유사도 순으로 상위 5개의 인덱스 추출\n",
    "    top_indices = similarity_scores.argsort()[-5:][::-1]\n",
    "\n",
    "    # 상위 5개의 회사, 제목, URL을 추천\n",
    "    recommendations = filtered_df[['Title', 'Company', 'URL']].iloc[top_indices]\n",
    "    \n",
    "    print(\"추천 결과:\")\n",
    "    print(recommendations)"
   ]
  },
  {
   "cell_type": "code",
   "execution_count": null,
   "id": "0fd53473",
   "metadata": {},
   "outputs": [],
   "source": [
    "# 채용 공고 추천 시스템 실행\n",
    "recommend_interactively(df, okt)"
   ]
  },
  {
   "cell_type": "code",
   "execution_count": null,
   "id": "4fdc6510",
   "metadata": {},
   "outputs": [],
   "source": []
  },
  {
   "cell_type": "code",
   "execution_count": null,
   "id": "33812451",
   "metadata": {},
   "outputs": [],
   "source": []
  },
  {
   "cell_type": "markdown",
   "id": "b23d188d",
   "metadata": {},
   "source": [
    " "
   ]
  }
 ],
 "metadata": {
  "kernelspec": {
   "display_name": "Python 3 (ipykernel)",
   "language": "python",
   "name": "python3"
  },
  "language_info": {
   "codemirror_mode": {
    "name": "ipython",
    "version": 3
   },
   "file_extension": ".py",
   "mimetype": "text/x-python",
   "name": "python",
   "nbconvert_exporter": "python",
   "pygments_lexer": "ipython3",
   "version": "3.9.12"
  }
 },
 "nbformat": 4,
 "nbformat_minor": 5
}
